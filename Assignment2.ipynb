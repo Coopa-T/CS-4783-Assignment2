{
  "cells": [
    {
      "cell_type": "code",
      "execution_count": null,
      "metadata": {
        "id": "I2IbYyQcEmTx"
      },
      "outputs": [],
      "source": [
        "import numpy as np"
      ]
    },
    {
      "cell_type": "code",
      "execution_count": null,
      "metadata": {
        "id": "m-Xsh52SEmTy"
      },
      "outputs": [],
      "source": [
        "X_train=np.loadtxt('X_train.csv')\n",
        "X_test=np.loadtxt('X_test.csv')\n",
        "y_train=np.loadtxt('y_train.csv')\n",
        "y_test=np.loadtxt('y_test.csv')"
      ]
    },
    {
      "cell_type": "code",
      "execution_count": null,
      "metadata": {
        "id": "ic2ana1AEmTy",
        "outputId": "9c537049-7151-43b5-bbbb-ff17586ce25e"
      },
      "outputs": [
        {
          "data": {
            "text/plain": [
              "(100, 2)"
            ]
          },
          "execution_count": 61,
          "metadata": {},
          "output_type": "execute_result"
        }
      ],
      "source": [
        "X_train.shape"
      ]
    },
    {
      "cell_type": "code",
      "execution_count": null,
      "metadata": {
        "id": "ciftshdTEmTz"
      },
      "outputs": [],
      "source": [
        "## 2 layers\n",
        "## Mean Squared Error Loss\n",
        "## Sigmoid Function hidden layer"
      ]
    },
    {
      "cell_type": "code",
      "execution_count": null,
      "metadata": {
        "id": "-4NUl1r8EmTz"
      },
      "outputs": [],
      "source": [
        "n_input=X_train.shape[1]\n",
        "n_hidden=5\n",
        "n_output=1\n",
        "lr=0.0001\n",
        "epochs=20"
      ]
    },
    {
      "cell_type": "code",
      "execution_count": null,
      "metadata": {
        "id": "DgQPbynBEmTz"
      },
      "outputs": [],
      "source": [
        "W1=np.random.rand(n_input,n_hidden)\n",
        "b1=np.zeros((1,n_hidden))\n",
        "\n",
        "W2=np.random.rand(n_hidden,n_output)\n",
        "b2=np.zeros((n_output,1))"
      ]
    },
    {
      "cell_type": "code",
      "execution_count": null,
      "metadata": {
        "id": "e9-q4-9xEmTz"
      },
      "outputs": [],
      "source": [
        "def sigmoid(Z):\n",
        "    return 1/(1+np.exp(-Z))"
      ]
    },
    {
      "cell_type": "code",
      "execution_count": null,
      "metadata": {
        "id": "kHez9DRZEmTz"
      },
      "outputs": [],
      "source": [
        "def MSE(Y,Y_pred):\n",
        "    return ((Y - Y_pred)**2).mean()\n",
        "    "
      ]
    },
    {
      "cell_type": "code",
      "execution_count": null,
      "metadata": {
        "id": "zfV673DrEmTz",
        "outputId": "9fa0d99e-40c9-4f76-eee3-9dff48b6223e"
      },
      "outputs": [
        {
          "name": "stdout",
          "output_type": "stream",
          "text": [
            "5692.5727593444335\n",
            "5665.992979450079\n",
            "5662.885403192926\n",
            "5660.478895467027\n",
            "5658.615295300876\n",
            "5657.172122825533\n",
            "5656.054529619832\n",
            "5655.189065057367\n",
            "5654.51884896535\n",
            "5653.999833331383\n",
            "5653.597907369041\n",
            "5653.286655680466\n",
            "5653.045622177394\n",
            "5652.858965661477\n",
            "5652.714418705608\n",
            "5652.6024814115435\n",
            "5652.515797055748\n",
            "5652.448668589489\n",
            "5652.396684216459\n",
            "5652.35642744006\n"
          ]
        }
      ],
      "source": [
        "losses=[]\n",
        "for epoch in range(epochs):\n",
        "\n",
        "    ## Feed Forward Step\n",
        "    Z1=X_train.dot(W1) + b1\n",
        "    A1=sigmoid(Z1)\n",
        "\n",
        "    Z2=A1.dot(W2)+b2\n",
        "    Y_pred=Z2.copy()\n",
        "    loss=MSE(y_train,Y_pred)\n",
        "    losses.append(loss)\n",
        "    print(loss)\n",
        "    \n",
        "    ## Back Propagation\n",
        "    dfLoss_A1= 2*W2.dot(((A1.dot(W2)+b2).ravel()  - y_train).reshape(1,-1))\n",
        "    dfA1_W1=X_train.T.dot(sigmoid(X_train.dot(W1) + b1).dot((1-sigmoid(X_train.dot(W1) + b1).T)))\n",
        "    dfLoss_W1 = dfA1_W1.dot(dfLoss_A1.T)   #2,6\n",
        "\n",
        "\n",
        "\n",
        "    dfA1_b1=(sigmoid(X_train.dot(W1) + b1).dot((1-sigmoid(X_train.dot(W1) + b1).T))).sum(1)\n",
        "\n",
        "    dfLoss_b1 = dfLoss_A1.dot(dfA1_b1) \n",
        "    dfLoss_W2 = 2*A1.T.dot((A1.dot(W2)+b2).ravel()  - y_train).reshape(-1,1)\n",
        "    dfLoss_b2 = 2*((A1.dot(W2)+b2).ravel() - y_train).sum()\n",
        "\n",
        "    W1=W1 - lr*dfLoss_W1\n",
        "    W2=W2 - lr*dfLoss_W2\n",
        "    b1=b1-lr*dfLoss_b1\n",
        "    b2=b2 -lr*dfLoss_b2"
      ]
    },
    {
      "cell_type": "code",
      "execution_count": null,
      "metadata": {
        "id": "HxP6XiH2EmT0"
      },
      "outputs": [],
      "source": [
        "# 1. The activation function used on the output layer is linear, since the outputs can be positive or negative for the regression task.\n",
        "# 2. There is only one neuron that predicts the output in the continuos range.\n",
        "# 3. MSE: 5252, there is no accuracy since this is a regression task\n",
        "# 4. Plot below\n",
        "# 5. The larger the learning rate, the model does not converge to a minimum MSE. The model diverges.\n",
        "# 6. With 1 neuron, the model performs worse, the MSE is larger. As we increase the number of neurons, we see that the model performs better."
      ]
    },
    {
      "cell_type": "code",
      "execution_count": null,
      "metadata": {
        "id": "6xUftnScEmT1",
        "outputId": "67ec36f6-e8fe-435f-9fe7-6d342eb8e111"
      },
      "outputs": [
        {
          "data": {
            "text/plain": [
              "[<matplotlib.lines.Line2D at 0x7f998ba354d0>]"
            ]
          },
          "execution_count": 44,
          "metadata": {},
          "output_type": "execute_result"
        },
        {
          "data": {
            "image/png": "[encoded data removed]",
            "text/plain": [
              "<Figure size 432x288 with 1 Axes>"
            ]
          },
          "metadata": {
            "needs_background": "light"
          },
          "output_type": "display_data"
        }
      ],
      "source": [
        "## Learning Rate = 0.001\n",
        "import matplotlib.pyplot as plt\n",
        "plt.plot(losses,marker='x')"
      ]
    },
    {
      "cell_type": "code",
      "execution_count": null,
      "metadata": {
        "id": "VL3nQRndEmT1",
        "outputId": "d01cfccb-6fa3-4f07-a1a1-d2344c827b04"
      },
      "outputs": [
        {
          "data": {
            "text/plain": [
              "[<matplotlib.lines.Line2D at 0x7f998b82ae90>]"
            ]
          },
          "execution_count": 36,
          "metadata": {},
          "output_type": "execute_result"
        },
        {
          "data": {
            "image/png": "[encoded data removed]",
            "text/plain": [
              "<Figure size 432x288 with 1 Axes>"
            ]
          },
          "metadata": {
            "needs_background": "light"
          },
          "output_type": "display_data"
        }
      ],
      "source": [
        "## Learning Rate = 0.01\n",
        "import matplotlib.pyplot as plt\n",
        "plt.plot(losses,marker='x')"
      ]
    }
  ],
  "metadata": {
    "kernelspec": {
      "display_name": "Python 3",
      "language": "python",
      "name": "python3"
    },
    "language_info": {
      "codemirror_mode": {
        "name": "ipython",
        "version": 3
      },
      "file_extension": ".py",
      "mimetype": "text/x-python",
      "name": "python",
      "nbconvert_exporter": "python",
      "pygments_lexer": "ipython3",
      "version": "3.7.6"
    },
    "colab": {
      "provenance": []
    }
  },
  "nbformat": 4,
  "nbformat_minor": 0
}